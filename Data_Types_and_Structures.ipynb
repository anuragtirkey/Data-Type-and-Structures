{
  "nbformat": 4,
  "nbformat_minor": 0,
  "metadata": {
    "colab": {
      "provenance": []
    },
    "kernelspec": {
      "name": "python3",
      "display_name": "Python 3"
    },
    "language_info": {
      "name": "python"
    }
  },
  "cells": [
    {
      "cell_type": "markdown",
      "source": [
        "# **Data Types and Structures**\n",
        "\n",
        "Q1. What are data structures, and why are they important?\n",
        "\n",
        "Ans. Data structures are ways to organize and store data in a computer so that it can be accessed and modified efficiently. They provide a means to manage large amounts of data for various computational tasks.\n",
        "\n",
        "  Data structures are important because they:\n",
        "  - **Improve Efficiency**\n",
        "  - **Organize Data**\n",
        "  - **Enhance Performance**\n",
        "  - **Enable Scalability**\n",
        "  - **Solve Complex Problems**\n",
        "\n",
        "Data Structures ensure that programs run effectively, even when dealing with substantial data.\n",
        "\n",
        "Q2. Explain the difference between mutable and immutable data types with examples.\n",
        "\n",
        "Ans. Mutable data types are those that can be changed after they are created, while immutable data types cannot be changed once created.\n",
        "\n",
        "  For Example:\n",
        "  - Lists, dictionaries, sets are mutable\n",
        "  - strings, tuples, frozensets are immutable\n",
        "\n",
        "Q3. What are the main differences between lists and tuples in Python?\n",
        "\n",
        "Ans.  \n",
        "\n",
        "a. list can be changed, list is mutable. Whereas, Tuples are immutable.    \n",
        "b. Lists Syntax - defined with square bracket [ ] and tuple with parenthesi ().  \n",
        "c. There are more methods avaiable for modificaiton in lists as compared with tuples.\n",
        "\n",
        "Q4. Describe how dictionaries store data.\n",
        "\n",
        "Ans. Dictionaries in Python store data as key-value pairs. They are similar to real-life dictionaries where we look up a word (key) to find its definition (value).\n",
        "\n",
        "Q5. Why might you use a set instead of a list in Python?\n",
        "\n",
        "Ans. Though, sets stores the data in unordered manner which is contrary to  Lists which maontains the sequence of elements inserted. Still, we might chose sets over lists when we want to ensure the uniqueness of all the elements, that sets does automatically. it is especially useful when we need to eliminate duplicates from a collection of items. Whereas, lists allows duplicate elements.\n",
        "\n",
        "Q6. What is a string in Python, and how is it different from a list?\n",
        "\n",
        "Ans. A string in Python is a sequence of characters, such as letters, numbers, and symbols, enclosed in single or double quotes - \"\". Essentially, strings are used to represent text data.\n",
        "\n",
        "Difference b/w String and List:\n",
        "\n",
        "1. String is an Immutable data structure whereas, Lists is Mutable.\n",
        "2. String holds charachters as data type, whereas Lists can hold any data type.\n",
        "3. String is used for texts, whereas List is used for collection of items.\n",
        "4. String is enclosed in quotes, and List in square brackets.\n",
        "\n",
        "Q7. How do tuples ensure data integrity in Python?\n",
        "\n",
        "Ans. Tuples in Python are immutable collections, meaning once they're created, their elements can't be changed. This immutability ensures data integrity by preventing accidental modifications, making tuples reliable for storing constant data.\n",
        "\n",
        "Q8. What is a hash table, and how does it relate to dictionaries in Python?\n",
        "\n",
        "Ans. A hash table is a data structure that enables efficient storage and retrieval of key-value pairs, and Python's dict is an implementation of a hash table, providing fast and efficient data access.\n",
        "\n",
        "Q9. Can lists contain different data types in Python?\n",
        "\n",
        "Ans. Yes, lists in Python can contain different data types. list even allow us to store a mix of integers, floats, strings, objects, and even other lists or dictionaries.\n",
        "\n",
        "Q10. Explain why strings are immutable in Python.\n",
        "\n",
        "Ans. Strings in Python are immutable to make them reliable and efficient.\n",
        "\n",
        "  Reasons for Immutability\n",
        "\n",
        "  - Memory Efficiency: Immutability allows Python to store just one copy of each unique string, saving memory.\n",
        "\n",
        "  - Consistency: Since strings can't be changed, we always know the string's contents will remain the same throughout your program.\n",
        "\n",
        "  - Security: It prevents accidental changes, ensuring your string data stays safe.\n",
        "\n",
        "Q11. What advantages do dictionaries offer over lists for certain tasks?\n",
        "\n",
        "Ans. Dictionaries and lists both have their uses, but dictionaries offer some significant advantages for certain tasks:\n",
        "\n",
        "1. Key-Value Pairs : Dictionaries allows us to store data as key-value pairs, making it easy to access the value associated with a given key. This is particularly useful for structured data. Whereas, Lists store items sequentially without key-value pairing, which might be less intuitive for some data structures.\n",
        "\n",
        "2. Flexible Data Types : in Dictionaries, keys can be of any immutable type that offers flexibility in how we organize our data. Whereas, List elements are accessed by numeric indices, which can limit how we conceptualize and organize our data.\n",
        "\n",
        "Q12. Describe a scenario where using a tuple would be preferable over a list.\n",
        "\n",
        "Ans. Like in a scenario of a Spice Blend tuples would be preferable over list.\n",
        "\n",
        "  - Immutability: The recipe proportions should not change. Using a tuple ensures that our spice blend stays consistent every time someone make it.\n",
        "\n",
        "  - Packaging and Storing: When we package this blend for later use, we want to ensure no one accidentally alters the ratio. Tuples help maintain the integrity of our blend.\n",
        "\n",
        "  - Performance: Tuples take up less space and are quicker to access, making our recipe reference more efficient.\n",
        "\n",
        "Q13. How do sets handle duplicate values in Python?\n",
        "\n",
        "Ans. In Python, sets automatically handle duplicate values by ensuring that each element within the set is unique. And if we even try to add a duplicate element to a set, it will be ignored, and no duplicates will be stored.\n",
        "\n",
        "Q14. How does the \"in\" keyword work differently for lists and dictionaries?\n",
        "\n",
        "Ans. For Lists the \"in\" keyword checks if a specific value is present in the list. And for Dictionaries the \"in\" keyword checks if a specific key is present in the dictionary, not the values.\n",
        "\n",
        "Q15. Can you modify the elements of a tuple? Explain why or why not.\n",
        "\n",
        "Ans. No, we cannot modify the elements of a tuple. Tuples are designed to be immutable in Python, meaning once they are created, their content cannot be changed. Immutability ensures the data in a tuple remains constant and reliable throughout the program, reducing the risk of accidental changes.\n",
        "\n",
        "Q16. What is a nested dictionary, and give an example of its use case?\n",
        "\n",
        "Ans. A nested dictionary is a dictionary that contains one or more dictionaries as values. This allows for storing complex data structures and creating hierarchical relationships within our data.\n",
        "\n",
        "For instance:\n",
        "\n",
        "  - Schools: Grades -> Students -> Student details\n",
        "  - Companies: Departments -> Teams -> Employee details\n",
        "  - Projects: Phases -> Tasks -> Task details\n",
        "\n",
        "Q17. Describe the time complexity of accessing elements in a dictionary.\n",
        "\n",
        "Ans. Not taught so far.\n",
        "\n",
        "Q18. In what situations are lists preferred over dictionaries?\n",
        "\n",
        "Ans. We might chose List over dictionaries if:\n",
        "\n",
        "  - The order of elements is important.\n",
        "  - There might be duplicate items.\n",
        "  - We need simple collections of items.\n",
        "  - We need to access items by their position.\n",
        "  - We're dealing with homogeneous data.\n",
        "\n",
        "Q19. Why are dictionaries considered unordered, and how does that affect data retrieval?\n",
        "\n",
        "Ans. Dictionaries are considered unordered because they do not store elements in a specific sequence. Instead, they use a hash-based structure to manage key-value pairs.\n",
        "\n",
        "And since dictionaries do not maintain an intrinsic order, we can’t access items by position or expect them to stay in a specific order when iterating. Instead, we always access values by their keys.\n",
        "\n",
        "Q20. Explain the difference between a list and a dictionary in terms of data retrieval.\n",
        "\n",
        "Ans. While both lists and dictionaries are crucial data structures in Python, they differ significantly when it comes to data retrieval:\n",
        "\n",
        "Lists\n",
        "\n",
        "Indexed Access: Elements in a list are accessed by their index, which represents the position of the element within the list.\n",
        "\n",
        "Dictionaries\n",
        "\n",
        "Key-Based Access: Elements in a dictionary are accessed by keys, which are mapped to values using a hash function. This means data retrieval is done directly via the key, not by position.\n"
      ],
      "metadata": {
        "id": "5WsDJmhv5Vd5"
      }
    },
    {
      "cell_type": "markdown",
      "source": [
        "# **Practical Questions**\n",
        "\n",
        "1.\tWrite a code to create a string with your name and print it."
      ],
      "metadata": {
        "id": "1mYJSNNzvWoq"
      }
    },
    {
      "cell_type": "code",
      "source": [
        "my_name = \"anurag\"\n",
        "print(my_name)"
      ],
      "metadata": {
        "colab": {
          "base_uri": "https://localhost:8080/"
        },
        "id": "qvS_KTDIvf64",
        "outputId": "b0a9ceee-dbee-406c-cc47-7eb6a5965524"
      },
      "execution_count": 1,
      "outputs": [
        {
          "output_type": "stream",
          "name": "stdout",
          "text": [
            "anurag\n"
          ]
        }
      ]
    },
    {
      "cell_type": "markdown",
      "source": [
        "2.\tWrite a code to find the length of the string \"Hello World\"."
      ],
      "metadata": {
        "id": "vKsyCquEv0at"
      }
    },
    {
      "cell_type": "code",
      "source": [
        "msg = \"Hello World\"\n",
        "len(msg)"
      ],
      "metadata": {
        "colab": {
          "base_uri": "https://localhost:8080/"
        },
        "id": "rXX1JakEv32x",
        "outputId": "43bb8fb0-5253-441b-cb1c-1a768e248a74"
      },
      "execution_count": 2,
      "outputs": [
        {
          "output_type": "execute_result",
          "data": {
            "text/plain": [
              "11"
            ]
          },
          "metadata": {},
          "execution_count": 2
        }
      ]
    },
    {
      "cell_type": "markdown",
      "source": [
        "3.\tWrite a code to slice the first 3 characters from the string \"Python Programming\"."
      ],
      "metadata": {
        "id": "Ljxdz9howKgA"
      }
    },
    {
      "cell_type": "code",
      "source": [
        "a = \"Python Programming\"\n",
        "a [3:]"
      ],
      "metadata": {
        "colab": {
          "base_uri": "https://localhost:8080/",
          "height": 36
        },
        "id": "8qnp9F9RwL9i",
        "outputId": "944c908a-c156-4257-985c-82d2ada0f868"
      },
      "execution_count": 4,
      "outputs": [
        {
          "output_type": "execute_result",
          "data": {
            "text/plain": [
              "'hon Programming'"
            ],
            "application/vnd.google.colaboratory.intrinsic+json": {
              "type": "string"
            }
          },
          "metadata": {},
          "execution_count": 4
        }
      ]
    },
    {
      "cell_type": "markdown",
      "source": [
        "4.\tWrite a code to convert the string \"hello\" to uppercase."
      ],
      "metadata": {
        "id": "I0A_IV7Cwpr9"
      }
    },
    {
      "cell_type": "code",
      "source": [
        "msg = \"hello\"\n",
        "msg.upper()"
      ],
      "metadata": {
        "colab": {
          "base_uri": "https://localhost:8080/",
          "height": 36
        },
        "id": "RhO9UxjywtDx",
        "outputId": "4448ce2b-dafe-44ca-c0a0-ac6acff1e1f7"
      },
      "execution_count": 7,
      "outputs": [
        {
          "output_type": "execute_result",
          "data": {
            "text/plain": [
              "'HELLO'"
            ],
            "application/vnd.google.colaboratory.intrinsic+json": {
              "type": "string"
            }
          },
          "metadata": {},
          "execution_count": 7
        }
      ]
    },
    {
      "cell_type": "markdown",
      "source": [
        "5.\tWrite a code to replace the word \"apple\" with \"orange\" in the string \"I like apple\"."
      ],
      "metadata": {
        "id": "P_0frAr5xU5J"
      }
    },
    {
      "cell_type": "code",
      "source": [
        "x = \"I like apple\"\n",
        "x.replace(\"apple\", \"orange\")"
      ],
      "metadata": {
        "colab": {
          "base_uri": "https://localhost:8080/",
          "height": 36
        },
        "id": "DpHk2LiBxYGA",
        "outputId": "4407e3fa-c3f9-424a-a542-7dc372738ce1"
      },
      "execution_count": 8,
      "outputs": [
        {
          "output_type": "execute_result",
          "data": {
            "text/plain": [
              "'I like orange'"
            ],
            "application/vnd.google.colaboratory.intrinsic+json": {
              "type": "string"
            }
          },
          "metadata": {},
          "execution_count": 8
        }
      ]
    },
    {
      "cell_type": "markdown",
      "source": [
        "6.\tWrite a code to create a list with numbers l to 5 and print it."
      ],
      "metadata": {
        "id": "IFGm4TBWxwTP"
      }
    },
    {
      "cell_type": "code",
      "source": [
        "my_list = [1,2,3,4,5]\n",
        "print(my_list)"
      ],
      "metadata": {
        "colab": {
          "base_uri": "https://localhost:8080/"
        },
        "id": "v2C2HyOUx0hG",
        "outputId": "f57550bc-2ae9-4ec9-a60a-395d3febed14"
      },
      "execution_count": 11,
      "outputs": [
        {
          "output_type": "stream",
          "name": "stdout",
          "text": [
            "[1, 2, 3, 4, 5]\n"
          ]
        }
      ]
    },
    {
      "cell_type": "markdown",
      "source": [
        "7.\tWrite a code to append the number 10 to the list [1, 2, 3, 4]."
      ],
      "metadata": {
        "id": "p4eRrNCcyGcA"
      }
    },
    {
      "cell_type": "code",
      "source": [
        "my_list1 = [1,2,3,4]\n",
        "my_list1.append(10)\n",
        "my_list1"
      ],
      "metadata": {
        "colab": {
          "base_uri": "https://localhost:8080/"
        },
        "id": "4k_ezsjXyKTl",
        "outputId": "1a5fc754-fec8-424a-fba2-55b23f181e45"
      },
      "execution_count": 17,
      "outputs": [
        {
          "output_type": "execute_result",
          "data": {
            "text/plain": [
              "[1, 2, 3, 4, 10]"
            ]
          },
          "metadata": {},
          "execution_count": 17
        }
      ]
    },
    {
      "cell_type": "markdown",
      "source": [
        "8.\tWrite a code to remove the number 3 from the list [1, 2, 3, 4, 5]."
      ],
      "metadata": {
        "id": "aUfNTe_9youE"
      }
    },
    {
      "cell_type": "code",
      "source": [
        "nos = [1,2,3,4,5]\n",
        "nos.remove(3)\n",
        "nos"
      ],
      "metadata": {
        "colab": {
          "base_uri": "https://localhost:8080/"
        },
        "id": "6S6SRAObyrMh",
        "outputId": "1e72aac3-7d66-4a54-c7aa-37f4cb0d5275"
      },
      "execution_count": 21,
      "outputs": [
        {
          "output_type": "execute_result",
          "data": {
            "text/plain": [
              "[1, 2, 4, 5]"
            ]
          },
          "metadata": {},
          "execution_count": 21
        }
      ]
    },
    {
      "cell_type": "markdown",
      "source": [
        "9.\tWrite a code to access the second element in the list ['a', 'b', ·c·, 'd']."
      ],
      "metadata": {
        "id": "eNynKawSzMQu"
      }
    },
    {
      "cell_type": "code",
      "source": [
        "b = ['a','b','c','d']\n",
        "b[1]\n"
      ],
      "metadata": {
        "colab": {
          "base_uri": "https://localhost:8080/",
          "height": 36
        },
        "id": "3_u6FXcczPbg",
        "outputId": "2b84d677-0a4b-411b-92e5-f3ab98401789"
      },
      "execution_count": 23,
      "outputs": [
        {
          "output_type": "execute_result",
          "data": {
            "text/plain": [
              "'b'"
            ],
            "application/vnd.google.colaboratory.intrinsic+json": {
              "type": "string"
            }
          },
          "metadata": {},
          "execution_count": 23
        }
      ]
    },
    {
      "cell_type": "markdown",
      "source": [
        "10.\tWrite a code to reverse the list [10, 20, 30, 40, 50 ]."
      ],
      "metadata": {
        "id": "oAN3eVvoz5MR"
      }
    },
    {
      "cell_type": "code",
      "source": [
        "abc = [10,20,30,40,50]\n",
        "abc[::-1]"
      ],
      "metadata": {
        "colab": {
          "base_uri": "https://localhost:8080/"
        },
        "id": "JbC-r5ZHz8tj",
        "outputId": "801765c4-745c-470d-ba63-e819ff5efb3f"
      },
      "execution_count": 24,
      "outputs": [
        {
          "output_type": "execute_result",
          "data": {
            "text/plain": [
              "[50, 40, 30, 20, 10]"
            ]
          },
          "metadata": {},
          "execution_count": 24
        }
      ]
    },
    {
      "cell_type": "markdown",
      "source": [
        "11.\tWrite a code to create a tuple with the elements 10, 20, 30 and print it."
      ],
      "metadata": {
        "id": "gnkMiD2O0NvT"
      }
    },
    {
      "cell_type": "code",
      "source": [
        "my_tuple = (10,20,30)\n",
        "print(my_tuple)"
      ],
      "metadata": {
        "colab": {
          "base_uri": "https://localhost:8080/"
        },
        "id": "qOJ9Ph_i0U5y",
        "outputId": "cc7714af-b61d-488f-9861-3b8eb41a15d5"
      },
      "execution_count": 25,
      "outputs": [
        {
          "output_type": "stream",
          "name": "stdout",
          "text": [
            "(10, 20, 30)\n"
          ]
        }
      ]
    },
    {
      "cell_type": "markdown",
      "source": [
        "12.\tWrite a code to access the first element of the tuple ('apple', banana', 'cherry')."
      ],
      "metadata": {
        "id": "pBvdnUw30mYP"
      }
    },
    {
      "cell_type": "code",
      "source": [
        "my_tuple = ('apple', 'banana', 'cherry')\n",
        "my_tuple[0]"
      ],
      "metadata": {
        "colab": {
          "base_uri": "https://localhost:8080/",
          "height": 36
        },
        "id": "PfIpiV0T0qVv",
        "outputId": "082a0e37-6fae-44df-b939-6c68bdd31fed"
      },
      "execution_count": 27,
      "outputs": [
        {
          "output_type": "execute_result",
          "data": {
            "text/plain": [
              "'apple'"
            ],
            "application/vnd.google.colaboratory.intrinsic+json": {
              "type": "string"
            }
          },
          "metadata": {},
          "execution_count": 27
        }
      ]
    },
    {
      "cell_type": "markdown",
      "source": [
        "13.\tWrite a code to count how many times the number 2 appears in the tuple (1, 2, 3, 2, 4, 2)."
      ],
      "metadata": {
        "id": "2X1nu1uy0_li"
      }
    },
    {
      "cell_type": "code",
      "source": [
        "my_tuple = (1,2,3,2,4,2)\n",
        "my_tuple.count(2)"
      ],
      "metadata": {
        "colab": {
          "base_uri": "https://localhost:8080/"
        },
        "id": "sDFm-uZU1C4_",
        "outputId": "a38fd8be-a0a7-4e5a-ea0c-8be18e122958"
      },
      "execution_count": 30,
      "outputs": [
        {
          "output_type": "execute_result",
          "data": {
            "text/plain": [
              "3"
            ]
          },
          "metadata": {},
          "execution_count": 30
        }
      ]
    },
    {
      "cell_type": "markdown",
      "source": [
        "14.\tWrite a code to find the index of the element \"cat\" in the tuple ('dog', 'cat', 'rabbit')."
      ],
      "metadata": {
        "id": "JMVEsIVu1k6_"
      }
    },
    {
      "cell_type": "code",
      "source": [
        "tup = ('dog','cat','rabbit')\n",
        "tup.index('cat')"
      ],
      "metadata": {
        "colab": {
          "base_uri": "https://localhost:8080/"
        },
        "id": "_XtgW5qs1pAD",
        "outputId": "5903fc84-b27a-4b22-b7b6-77a1c880c957"
      },
      "execution_count": 32,
      "outputs": [
        {
          "output_type": "execute_result",
          "data": {
            "text/plain": [
              "1"
            ]
          },
          "metadata": {},
          "execution_count": 32
        }
      ]
    },
    {
      "cell_type": "markdown",
      "source": [
        "15.\tWrite a code to check if the element \"banana\" is in the tuple ('apple', 'orange', 'banana')."
      ],
      "metadata": {
        "id": "jDXkSijn17Xn"
      }
    },
    {
      "cell_type": "code",
      "source": [
        "t = ('apple', 'orrange','banana')\n",
        "'banana' in t"
      ],
      "metadata": {
        "colab": {
          "base_uri": "https://localhost:8080/"
        },
        "id": "jJY0IKK31-sc",
        "outputId": "b68f1943-1db1-457f-97e1-3fc545fd53a4"
      },
      "execution_count": 34,
      "outputs": [
        {
          "output_type": "execute_result",
          "data": {
            "text/plain": [
              "True"
            ]
          },
          "metadata": {},
          "execution_count": 34
        }
      ]
    },
    {
      "cell_type": "markdown",
      "source": [
        "16.\tWrite a code to create a set with the elements l, 2, 3, 4, 5 and print it."
      ],
      "metadata": {
        "id": "DL8Uav4R2VqN"
      }
    },
    {
      "cell_type": "code",
      "source": [
        "my_set = {1,2,3,4,5}\n",
        "print(my_set)"
      ],
      "metadata": {
        "colab": {
          "base_uri": "https://localhost:8080/"
        },
        "id": "Tl_GtBl52Y8C",
        "outputId": "506468bf-9067-4365-8431-ee8d75414f51"
      },
      "execution_count": 36,
      "outputs": [
        {
          "output_type": "stream",
          "name": "stdout",
          "text": [
            "{1, 2, 3, 4, 5}\n"
          ]
        }
      ]
    },
    {
      "cell_type": "markdown",
      "source": [
        "17.\tWrite a code to add the element 6 to the set {1, 2, 3, 4}."
      ],
      "metadata": {
        "id": "UYU7kTqr2kOa"
      }
    },
    {
      "cell_type": "code",
      "source": [
        "my_set = {1,2,3,4}\n",
        "my_set.add(6)\n",
        "print(my_set)"
      ],
      "metadata": {
        "colab": {
          "base_uri": "https://localhost:8080/"
        },
        "id": "yint8zHS2n8I",
        "outputId": "b18507d1-1c43-4e26-e55f-ed1c53a8f852"
      },
      "execution_count": 39,
      "outputs": [
        {
          "output_type": "stream",
          "name": "stdout",
          "text": [
            "{1, 2, 3, 4, 6}\n"
          ]
        }
      ]
    },
    {
      "cell_type": "markdown",
      "source": [
        "18.\tWrite a code to create a tuple with the elements 10, 20, 30 and print it."
      ],
      "metadata": {
        "id": "46lN6of424dJ"
      }
    },
    {
      "cell_type": "code",
      "source": [
        "my_tuple = (10,20,30)\n",
        "print(my_tuple)"
      ],
      "metadata": {
        "colab": {
          "base_uri": "https://localhost:8080/"
        },
        "id": "TacjF3jp3Bsp",
        "outputId": "ddcd0af9-f0dd-475b-ad08-0741397d0a2a"
      },
      "execution_count": 40,
      "outputs": [
        {
          "output_type": "stream",
          "name": "stdout",
          "text": [
            "(10, 20, 30)\n"
          ]
        }
      ]
    },
    {
      "cell_type": "markdown",
      "source": [
        "19.\tWrite a code to access the first element of the tuple ('apple', banana', 'cherry')."
      ],
      "metadata": {
        "id": "ZROBljSo3Sj8"
      }
    },
    {
      "cell_type": "code",
      "source": [
        "my_tuple = ('apple', 'banana', 'cherry')\n",
        "my_tuple[0]"
      ],
      "metadata": {
        "colab": {
          "base_uri": "https://localhost:8080/",
          "height": 36
        },
        "id": "-UKgaf163Why",
        "outputId": "6c7e0221-a95b-433b-8004-e96736b00987"
      },
      "execution_count": 41,
      "outputs": [
        {
          "output_type": "execute_result",
          "data": {
            "text/plain": [
              "'apple'"
            ],
            "application/vnd.google.colaboratory.intrinsic+json": {
              "type": "string"
            }
          },
          "metadata": {},
          "execution_count": 41
        }
      ]
    },
    {
      "cell_type": "markdown",
      "source": [
        "20.\tWrite a code to count how many times the number 2 appears in the tuple (1, 2, 3, 2, 4, 2)."
      ],
      "metadata": {
        "id": "UkGCBhfl3k7S"
      }
    },
    {
      "cell_type": "code",
      "source": [
        "my_tuple = (1,2,3,2,4,2)\n",
        "my_tuple.count(2)"
      ],
      "metadata": {
        "colab": {
          "base_uri": "https://localhost:8080/"
        },
        "id": "9mmaspAb3n0o",
        "outputId": "310cd79a-ed4a-4271-ac40-b746d9fb5853"
      },
      "execution_count": 42,
      "outputs": [
        {
          "output_type": "execute_result",
          "data": {
            "text/plain": [
              "3"
            ]
          },
          "metadata": {},
          "execution_count": 42
        }
      ]
    },
    {
      "cell_type": "markdown",
      "source": [
        "21.\tWrite a code to find the index of the element \"cat\" in the tuple ('dog', 'cat', 'rabbit')."
      ],
      "metadata": {
        "id": "zAHo03U83usk"
      }
    },
    {
      "cell_type": "code",
      "source": [
        "tup = ('dog','cat','rabbit')\n",
        "tup.index('cat')"
      ],
      "metadata": {
        "colab": {
          "base_uri": "https://localhost:8080/"
        },
        "id": "aHintYBc3zA_",
        "outputId": "68f4968d-6cd6-4dd5-c9bb-ba8caae16e6c"
      },
      "execution_count": 43,
      "outputs": [
        {
          "output_type": "execute_result",
          "data": {
            "text/plain": [
              "1"
            ]
          },
          "metadata": {},
          "execution_count": 43
        }
      ]
    },
    {
      "cell_type": "markdown",
      "source": [
        "22.\tWrite a code to check if the element \"banana\" is in the tuple ('apple', 'orange', banana')."
      ],
      "metadata": {
        "id": "ZD18jQZg35nt"
      }
    },
    {
      "cell_type": "code",
      "source": [
        "t = ('apple', 'orrange','banana')\n",
        "'banana' in t"
      ],
      "metadata": {
        "colab": {
          "base_uri": "https://localhost:8080/"
        },
        "id": "mZ80V7Zl38_W",
        "outputId": "794a0498-abab-49f2-93e4-309978d62275"
      },
      "execution_count": 44,
      "outputs": [
        {
          "output_type": "execute_result",
          "data": {
            "text/plain": [
              "True"
            ]
          },
          "metadata": {},
          "execution_count": 44
        }
      ]
    },
    {
      "cell_type": "markdown",
      "source": [
        "23.\tWrite a code to create a set with the elements l, 2, 3, 4, 5 and print it."
      ],
      "metadata": {
        "id": "D8vkhwjN4DvM"
      }
    },
    {
      "cell_type": "code",
      "source": [
        "my_set = {1,2,3,4,5}\n",
        "print(my_set)"
      ],
      "metadata": {
        "colab": {
          "base_uri": "https://localhost:8080/"
        },
        "id": "WKURwNWX4HCe",
        "outputId": "58ede7f4-ff23-44d0-eb63-f2522c3a4b79"
      },
      "execution_count": 45,
      "outputs": [
        {
          "output_type": "stream",
          "name": "stdout",
          "text": [
            "{1, 2, 3, 4, 5}\n"
          ]
        }
      ]
    },
    {
      "cell_type": "markdown",
      "source": [
        "24.\tWrite a code to add the element 6 to the set {1, 2, 3, 4}."
      ],
      "metadata": {
        "id": "QmRFtgll4L3N"
      }
    },
    {
      "cell_type": "code",
      "source": [
        "my_set = {1,2,3,4}\n",
        "my_set.add(6)\n",
        "print(my_set)"
      ],
      "metadata": {
        "colab": {
          "base_uri": "https://localhost:8080/"
        },
        "id": "-ydyqOoq4OIL",
        "outputId": "fca892a7-1200-4317-80d2-a0c67e78b753"
      },
      "execution_count": 46,
      "outputs": [
        {
          "output_type": "stream",
          "name": "stdout",
          "text": [
            "{1, 2, 3, 4, 6}\n"
          ]
        }
      ]
    }
  ]
}